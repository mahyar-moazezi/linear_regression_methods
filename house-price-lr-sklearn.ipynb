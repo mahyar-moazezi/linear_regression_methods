{
 "cells": [
  {
   "cell_type": "code",
   "execution_count": 1,
   "id": "d9bb8255",
   "metadata": {
    "_cell_guid": "b1076dfc-b9ad-4769-8c92-a6c4dae69d19",
    "_uuid": "8f2839f25d086af736a60e9eeb907d3b93b6e0e5",
    "execution": {
     "iopub.execute_input": "2023-05-23T06:46:39.946992Z",
     "iopub.status.busy": "2023-05-23T06:46:39.945682Z",
     "iopub.status.idle": "2023-05-23T06:46:39.969297Z",
     "shell.execute_reply": "2023-05-23T06:46:39.968087Z"
    },
    "papermill": {
     "duration": 0.041781,
     "end_time": "2023-05-23T06:46:39.972574",
     "exception": false,
     "start_time": "2023-05-23T06:46:39.930793",
     "status": "completed"
    },
    "tags": []
   },
   "outputs": [
    {
     "name": "stdout",
     "output_type": "stream",
     "text": [
      "/kaggle/input/chicago-house-price/realest.csv\n"
     ]
    }
   ],
   "source": [
    "# This Python 3 environment comes with many helpful analytics libraries installed\n",
    "# It is defined by the kaggle/python Docker image: https://github.com/kaggle/docker-python\n",
    "# For example, here's several helpful packages to load\n",
    "\n",
    "import numpy as np # linear algebra\n",
    "import pandas as pd # data processing, CSV file I/O (e.g. pd.read_csv)\n",
    "\n",
    "# Input data files are available in the read-only \"../input/\" directory\n",
    "# For example, running this (by clicking run or pressing Shift+Enter) will list all files under the input directory\n",
    "\n",
    "import os\n",
    "for dirname, _, filenames in os.walk('/kaggle/input'):\n",
    "    for filename in filenames:\n",
    "        print(os.path.join(dirname, filename))\n",
    "\n",
    "# You can write up to 20GB to the current directory (/kaggle/working/) that gets preserved as output when you create a version using \"Save & Run All\" \n",
    "# You can also write temporary files to /kaggle/temp/, but they won't be saved outside of the current session"
   ]
  },
  {
   "cell_type": "markdown",
   "id": "c7823ff9",
   "metadata": {
    "papermill": {
     "duration": 0.007786,
     "end_time": "2023-05-23T06:46:39.994269",
     "exception": false,
     "start_time": "2023-05-23T06:46:39.986483",
     "status": "completed"
    },
    "tags": []
   },
   "source": [
    "**Linear Regression By Multiple Ways**"
   ]
  },
  {
   "cell_type": "markdown",
   "id": "d7b0eb2d",
   "metadata": {
    "papermill": {
     "duration": 0.007609,
     "end_time": "2023-05-23T06:46:40.009613",
     "exception": false,
     "start_time": "2023-05-23T06:46:40.002004",
     "status": "completed"
    },
    "tags": []
   },
   "source": [
    "**Linear Regression with Sklearn****"
   ]
  },
  {
   "cell_type": "markdown",
   "id": "2bcdef73",
   "metadata": {
    "papermill": {
     "duration": 0.007409,
     "end_time": "2023-05-23T06:46:40.024907",
     "exception": false,
     "start_time": "2023-05-23T06:46:40.017498",
     "status": "completed"
    },
    "tags": []
   },
   "source": [
    "**Import Libraries**"
   ]
  },
  {
   "cell_type": "code",
   "execution_count": 2,
   "id": "1f8e83f2",
   "metadata": {
    "execution": {
     "iopub.execute_input": "2023-05-23T06:46:40.042195Z",
     "iopub.status.busy": "2023-05-23T06:46:40.041791Z",
     "iopub.status.idle": "2023-05-23T06:46:40.047848Z",
     "shell.execute_reply": "2023-05-23T06:46:40.046880Z"
    },
    "papermill": {
     "duration": 0.017329,
     "end_time": "2023-05-23T06:46:40.049948",
     "exception": false,
     "start_time": "2023-05-23T06:46:40.032619",
     "status": "completed"
    },
    "tags": []
   },
   "outputs": [],
   "source": [
    "import pandas as pd\n",
    "import numpy as np\n",
    "import matplotlib.pyplot as plt\n",
    "%matplotlib inline"
   ]
  },
  {
   "cell_type": "markdown",
   "id": "cac3f648",
   "metadata": {
    "papermill": {
     "duration": 0.007478,
     "end_time": "2023-05-23T06:46:40.065238",
     "exception": false,
     "start_time": "2023-05-23T06:46:40.057760",
     "status": "completed"
    },
    "tags": []
   },
   "source": [
    "**Reading Data**"
   ]
  },
  {
   "cell_type": "code",
   "execution_count": 3,
   "id": "38925c66",
   "metadata": {
    "execution": {
     "iopub.execute_input": "2023-05-23T06:46:40.082762Z",
     "iopub.status.busy": "2023-05-23T06:46:40.082108Z",
     "iopub.status.idle": "2023-05-23T06:46:40.135342Z",
     "shell.execute_reply": "2023-05-23T06:46:40.134264Z"
    },
    "papermill": {
     "duration": 0.064734,
     "end_time": "2023-05-23T06:46:40.137744",
     "exception": false,
     "start_time": "2023-05-23T06:46:40.073010",
     "status": "completed"
    },
    "tags": []
   },
   "outputs": [
    {
     "data": {
      "text/html": [
       "<div>\n",
       "<style scoped>\n",
       "    .dataframe tbody tr th:only-of-type {\n",
       "        vertical-align: middle;\n",
       "    }\n",
       "\n",
       "    .dataframe tbody tr th {\n",
       "        vertical-align: top;\n",
       "    }\n",
       "\n",
       "    .dataframe thead th {\n",
       "        text-align: right;\n",
       "    }\n",
       "</style>\n",
       "<table border=\"1\" class=\"dataframe\">\n",
       "  <thead>\n",
       "    <tr style=\"text-align: right;\">\n",
       "      <th></th>\n",
       "      <th>Price</th>\n",
       "      <th>Bedroom</th>\n",
       "      <th>Space</th>\n",
       "      <th>Room</th>\n",
       "      <th>Lot</th>\n",
       "      <th>Tax</th>\n",
       "      <th>Bathroom</th>\n",
       "      <th>Garage</th>\n",
       "      <th>Condition</th>\n",
       "    </tr>\n",
       "  </thead>\n",
       "  <tbody>\n",
       "    <tr>\n",
       "      <th>0</th>\n",
       "      <td>53.0</td>\n",
       "      <td>2.0</td>\n",
       "      <td>967.0</td>\n",
       "      <td>5.0</td>\n",
       "      <td>39.0</td>\n",
       "      <td>652.0</td>\n",
       "      <td>1.5</td>\n",
       "      <td>0.0</td>\n",
       "      <td>0.0</td>\n",
       "    </tr>\n",
       "    <tr>\n",
       "      <th>1</th>\n",
       "      <td>55.0</td>\n",
       "      <td>2.0</td>\n",
       "      <td>815.0</td>\n",
       "      <td>5.0</td>\n",
       "      <td>33.0</td>\n",
       "      <td>1000.0</td>\n",
       "      <td>1.0</td>\n",
       "      <td>2.0</td>\n",
       "      <td>1.0</td>\n",
       "    </tr>\n",
       "    <tr>\n",
       "      <th>2</th>\n",
       "      <td>56.0</td>\n",
       "      <td>3.0</td>\n",
       "      <td>900.0</td>\n",
       "      <td>5.0</td>\n",
       "      <td>35.0</td>\n",
       "      <td>897.0</td>\n",
       "      <td>1.5</td>\n",
       "      <td>1.0</td>\n",
       "      <td>0.0</td>\n",
       "    </tr>\n",
       "    <tr>\n",
       "      <th>3</th>\n",
       "      <td>58.0</td>\n",
       "      <td>3.0</td>\n",
       "      <td>1007.0</td>\n",
       "      <td>6.0</td>\n",
       "      <td>24.0</td>\n",
       "      <td>964.0</td>\n",
       "      <td>1.5</td>\n",
       "      <td>2.0</td>\n",
       "      <td>0.0</td>\n",
       "    </tr>\n",
       "    <tr>\n",
       "      <th>4</th>\n",
       "      <td>64.0</td>\n",
       "      <td>3.0</td>\n",
       "      <td>1100.0</td>\n",
       "      <td>7.0</td>\n",
       "      <td>50.0</td>\n",
       "      <td>1099.0</td>\n",
       "      <td>1.5</td>\n",
       "      <td>1.5</td>\n",
       "      <td>0.0</td>\n",
       "    </tr>\n",
       "  </tbody>\n",
       "</table>\n",
       "</div>"
      ],
      "text/plain": [
       "   Price  Bedroom   Space  Room   Lot     Tax  Bathroom  Garage  Condition\n",
       "0   53.0      2.0   967.0   5.0  39.0   652.0       1.5     0.0        0.0\n",
       "1   55.0      2.0   815.0   5.0  33.0  1000.0       1.0     2.0        1.0\n",
       "2   56.0      3.0   900.0   5.0  35.0   897.0       1.5     1.0        0.0\n",
       "3   58.0      3.0  1007.0   6.0  24.0   964.0       1.5     2.0        0.0\n",
       "4   64.0      3.0  1100.0   7.0  50.0  1099.0       1.5     1.5        0.0"
      ]
     },
     "execution_count": 3,
     "metadata": {},
     "output_type": "execute_result"
    }
   ],
   "source": [
    "df = pd.read_csv(\"/kaggle/input/chicago-house-price/realest.csv\")\n",
    "df.head()"
   ]
  },
  {
   "cell_type": "code",
   "execution_count": 4,
   "id": "2e0a20d1",
   "metadata": {
    "execution": {
     "iopub.execute_input": "2023-05-23T06:46:40.156395Z",
     "iopub.status.busy": "2023-05-23T06:46:40.155550Z",
     "iopub.status.idle": "2023-05-23T06:46:40.165580Z",
     "shell.execute_reply": "2023-05-23T06:46:40.164477Z"
    },
    "papermill": {
     "duration": 0.021785,
     "end_time": "2023-05-23T06:46:40.167709",
     "exception": false,
     "start_time": "2023-05-23T06:46:40.145924",
     "status": "completed"
    },
    "tags": []
   },
   "outputs": [],
   "source": [
    "df.dropna(inplace=True)"
   ]
  },
  {
   "cell_type": "markdown",
   "id": "e9ca867b",
   "metadata": {
    "papermill": {
     "duration": 0.00784,
     "end_time": "2023-05-23T06:46:40.183762",
     "exception": false,
     "start_time": "2023-05-23T06:46:40.175922",
     "status": "completed"
    },
    "tags": []
   },
   "source": [
    "**Building a Logistic Regression model**"
   ]
  },
  {
   "cell_type": "code",
   "execution_count": 5,
   "id": "bae7f58d",
   "metadata": {
    "execution": {
     "iopub.execute_input": "2023-05-23T06:46:40.201805Z",
     "iopub.status.busy": "2023-05-23T06:46:40.201409Z",
     "iopub.status.idle": "2023-05-23T06:46:40.208974Z",
     "shell.execute_reply": "2023-05-23T06:46:40.208179Z"
    },
    "papermill": {
     "duration": 0.018883,
     "end_time": "2023-05-23T06:46:40.210893",
     "exception": false,
     "start_time": "2023-05-23T06:46:40.192010",
     "status": "completed"
    },
    "tags": []
   },
   "outputs": [],
   "source": [
    "X = df.drop(\"Price\",axis=1)\n",
    "y=  df[\"Price\"]"
   ]
  },
  {
   "cell_type": "markdown",
   "id": "9ed54524",
   "metadata": {
    "papermill": {
     "duration": 0.00787,
     "end_time": "2023-05-23T06:46:40.226889",
     "exception": false,
     "start_time": "2023-05-23T06:46:40.219019",
     "status": "completed"
    },
    "tags": []
   },
   "source": [
    "**Train Test Split**"
   ]
  },
  {
   "cell_type": "code",
   "execution_count": 6,
   "id": "40bc880f",
   "metadata": {
    "execution": {
     "iopub.execute_input": "2023-05-23T06:46:40.244789Z",
     "iopub.status.busy": "2023-05-23T06:46:40.244394Z",
     "iopub.status.idle": "2023-05-23T06:46:41.452659Z",
     "shell.execute_reply": "2023-05-23T06:46:41.451544Z"
    },
    "papermill": {
     "duration": 1.220458,
     "end_time": "2023-05-23T06:46:41.455489",
     "exception": false,
     "start_time": "2023-05-23T06:46:40.235031",
     "status": "completed"
    },
    "tags": []
   },
   "outputs": [
    {
     "name": "stderr",
     "output_type": "stream",
     "text": [
      "/opt/conda/lib/python3.10/site-packages/scipy/__init__.py:146: UserWarning: A NumPy version >=1.16.5 and <1.23.0 is required for this version of SciPy (detected version 1.23.5\n",
      "  warnings.warn(f\"A NumPy version >={np_minversion} and <{np_maxversion}\"\n"
     ]
    }
   ],
   "source": [
    "from sklearn.model_selection import train_test_split"
   ]
  },
  {
   "cell_type": "code",
   "execution_count": 7,
   "id": "d1a0448b",
   "metadata": {
    "execution": {
     "iopub.execute_input": "2023-05-23T06:46:41.474177Z",
     "iopub.status.busy": "2023-05-23T06:46:41.473261Z",
     "iopub.status.idle": "2023-05-23T06:46:41.480691Z",
     "shell.execute_reply": "2023-05-23T06:46:41.479790Z"
    },
    "papermill": {
     "duration": 0.019574,
     "end_time": "2023-05-23T06:46:41.483354",
     "exception": false,
     "start_time": "2023-05-23T06:46:41.463780",
     "status": "completed"
    },
    "tags": []
   },
   "outputs": [],
   "source": [
    "X_train, X_test, y_train, y_test = train_test_split(X, y, test_size=0.33, random_state=101)"
   ]
  },
  {
   "cell_type": "markdown",
   "id": "36dda5bd",
   "metadata": {
    "papermill": {
     "duration": 0.007982,
     "end_time": "2023-05-23T06:46:41.499948",
     "exception": false,
     "start_time": "2023-05-23T06:46:41.491966",
     "status": "completed"
    },
    "tags": []
   },
   "source": [
    "**Training and Predicting**"
   ]
  },
  {
   "cell_type": "code",
   "execution_count": 8,
   "id": "bd262908",
   "metadata": {
    "execution": {
     "iopub.execute_input": "2023-05-23T06:46:41.518131Z",
     "iopub.status.busy": "2023-05-23T06:46:41.517744Z",
     "iopub.status.idle": "2023-05-23T06:46:41.628730Z",
     "shell.execute_reply": "2023-05-23T06:46:41.627768Z"
    },
    "papermill": {
     "duration": 0.123267,
     "end_time": "2023-05-23T06:46:41.631458",
     "exception": false,
     "start_time": "2023-05-23T06:46:41.508191",
     "status": "completed"
    },
    "tags": []
   },
   "outputs": [],
   "source": [
    "from sklearn.linear_model import LinearRegression"
   ]
  },
  {
   "cell_type": "code",
   "execution_count": 9,
   "id": "2d997785",
   "metadata": {
    "execution": {
     "iopub.execute_input": "2023-05-23T06:46:41.650302Z",
     "iopub.status.busy": "2023-05-23T06:46:41.649845Z",
     "iopub.status.idle": "2023-05-23T06:46:41.655436Z",
     "shell.execute_reply": "2023-05-23T06:46:41.654168Z"
    },
    "papermill": {
     "duration": 0.017503,
     "end_time": "2023-05-23T06:46:41.657635",
     "exception": false,
     "start_time": "2023-05-23T06:46:41.640132",
     "status": "completed"
    },
    "tags": []
   },
   "outputs": [],
   "source": [
    "lm = LinearRegression()"
   ]
  },
  {
   "cell_type": "code",
   "execution_count": 10,
   "id": "9422e5ae",
   "metadata": {
    "execution": {
     "iopub.execute_input": "2023-05-23T06:46:41.675950Z",
     "iopub.status.busy": "2023-05-23T06:46:41.675524Z",
     "iopub.status.idle": "2023-05-23T06:46:41.702583Z",
     "shell.execute_reply": "2023-05-23T06:46:41.701641Z"
    },
    "papermill": {
     "duration": 0.039169,
     "end_time": "2023-05-23T06:46:41.705159",
     "exception": false,
     "start_time": "2023-05-23T06:46:41.665990",
     "status": "completed"
    },
    "tags": []
   },
   "outputs": [],
   "source": [
    "model = lm.fit(X_train,y_train)"
   ]
  },
  {
   "cell_type": "markdown",
   "id": "a7f82802",
   "metadata": {
    "papermill": {
     "duration": 0.007963,
     "end_time": "2023-05-23T06:46:41.721713",
     "exception": false,
     "start_time": "2023-05-23T06:46:41.713750",
     "status": "completed"
    },
    "tags": []
   },
   "source": [
    "Find w and b of the cost function"
   ]
  },
  {
   "cell_type": "code",
   "execution_count": 11,
   "id": "7d6b163e",
   "metadata": {
    "execution": {
     "iopub.execute_input": "2023-05-23T06:46:41.740401Z",
     "iopub.status.busy": "2023-05-23T06:46:41.739751Z",
     "iopub.status.idle": "2023-05-23T06:46:41.746077Z",
     "shell.execute_reply": "2023-05-23T06:46:41.744861Z"
    },
    "papermill": {
     "duration": 0.018392,
     "end_time": "2023-05-23T06:46:41.748349",
     "exception": false,
     "start_time": "2023-05-23T06:46:41.729957",
     "status": "completed"
    },
    "tags": []
   },
   "outputs": [
    {
     "name": "stdout",
     "output_type": "stream",
     "text": [
      "[-3.27319782e+00  1.30014345e-02  1.14515689e+00  4.30151001e-01\n",
      "  8.16888105e-04  4.73646767e+00  4.46686987e+00  1.28969457e+00] 18.9320694401189\n"
     ]
    }
   ],
   "source": [
    "w = model.coef_\n",
    "b = model.intercept_\n",
    "print(w,b)"
   ]
  },
  {
   "cell_type": "markdown",
   "id": "ae6e9531",
   "metadata": {
    "papermill": {
     "duration": 0.007943,
     "end_time": "2023-05-23T06:46:41.764857",
     "exception": false,
     "start_time": "2023-05-23T06:46:41.756914",
     "status": "completed"
    },
    "tags": []
   },
   "source": [
    "Prediction"
   ]
  },
  {
   "cell_type": "code",
   "execution_count": 12,
   "id": "23423486",
   "metadata": {
    "execution": {
     "iopub.execute_input": "2023-05-23T06:46:41.783057Z",
     "iopub.status.busy": "2023-05-23T06:46:41.782684Z",
     "iopub.status.idle": "2023-05-23T06:46:41.789640Z",
     "shell.execute_reply": "2023-05-23T06:46:41.788678Z"
    },
    "papermill": {
     "duration": 0.018874,
     "end_time": "2023-05-23T06:46:41.791964",
     "exception": false,
     "start_time": "2023-05-23T06:46:41.773090",
     "status": "completed"
    },
    "tags": []
   },
   "outputs": [],
   "source": [
    "predictions = model.predict(X_test)"
   ]
  },
  {
   "cell_type": "markdown",
   "id": "dfc40abb",
   "metadata": {
    "papermill": {
     "duration": 0.008018,
     "end_time": "2023-05-23T06:46:41.808547",
     "exception": false,
     "start_time": "2023-05-23T06:46:41.800529",
     "status": "completed"
    },
    "tags": []
   },
   "source": [
    "Plots"
   ]
  },
  {
   "cell_type": "code",
   "execution_count": 13,
   "id": "1acf1272",
   "metadata": {
    "execution": {
     "iopub.execute_input": "2023-05-23T06:46:41.826926Z",
     "iopub.status.busy": "2023-05-23T06:46:41.826547Z",
     "iopub.status.idle": "2023-05-23T06:46:42.100749Z",
     "shell.execute_reply": "2023-05-23T06:46:42.099673Z"
    },
    "papermill": {
     "duration": 0.286309,
     "end_time": "2023-05-23T06:46:42.103428",
     "exception": false,
     "start_time": "2023-05-23T06:46:41.817119",
     "status": "completed"
    },
    "tags": []
   },
   "outputs": [
    {
     "data": {
      "text/plain": [
       "<matplotlib.collections.PathCollection at 0x7e0aba7b9420>"
      ]
     },
     "execution_count": 13,
     "metadata": {},
     "output_type": "execute_result"
    },
    {
     "data": {
      "image/png": "[encoded data removed]",
      "text/plain": [
       "<Figure size 640x480 with 1 Axes>"
      ]
     },
     "metadata": {},
     "output_type": "display_data"
    }
   ],
   "source": [
    "plt.scatter(y_test,predictions,c=\"b\")"
   ]
  },
  {
   "cell_type": "markdown",
   "id": "6e39da75",
   "metadata": {
    "papermill": {
     "duration": 0.008303,
     "end_time": "2023-05-23T06:46:42.120617",
     "exception": false,
     "start_time": "2023-05-23T06:46:42.112314",
     "status": "completed"
    },
    "tags": []
   },
   "source": [
    "**Regression Evaluation Metrics**"
   ]
  },
  {
   "cell_type": "code",
   "execution_count": 14,
   "id": "abcb7483",
   "metadata": {
    "execution": {
     "iopub.execute_input": "2023-05-23T06:46:42.140092Z",
     "iopub.status.busy": "2023-05-23T06:46:42.139479Z",
     "iopub.status.idle": "2023-05-23T06:46:42.143940Z",
     "shell.execute_reply": "2023-05-23T06:46:42.143244Z"
    },
    "papermill": {
     "duration": 0.016877,
     "end_time": "2023-05-23T06:46:42.146230",
     "exception": false,
     "start_time": "2023-05-23T06:46:42.129353",
     "status": "completed"
    },
    "tags": []
   },
   "outputs": [],
   "source": [
    "from sklearn import metrics"
   ]
  },
  {
   "cell_type": "code",
   "execution_count": 15,
   "id": "373d882a",
   "metadata": {
    "execution": {
     "iopub.execute_input": "2023-05-23T06:46:42.166927Z",
     "iopub.status.busy": "2023-05-23T06:46:42.166320Z",
     "iopub.status.idle": "2023-05-23T06:46:42.173804Z",
     "shell.execute_reply": "2023-05-23T06:46:42.172556Z"
    },
    "papermill": {
     "duration": 0.020228,
     "end_time": "2023-05-23T06:46:42.175874",
     "exception": false,
     "start_time": "2023-05-23T06:46:42.155646",
     "status": "completed"
    },
    "tags": []
   },
   "outputs": [
    {
     "name": "stdout",
     "output_type": "stream",
     "text": [
      "MAE: 6.497841010869984\n",
      "MSE: 61.37218633092773\n",
      "RMSE: 7.834040230361836\n"
     ]
    }
   ],
   "source": [
    "print('MAE:', metrics.mean_absolute_error(y_test, predictions))\n",
    "print('MSE:', metrics.mean_squared_error(y_test, predictions))\n",
    "print('RMSE:', np.sqrt(metrics.mean_squared_error(y_test, predictions)))"
   ]
  },
  {
   "cell_type": "code",
   "execution_count": null,
   "id": "52bf7e8c",
   "metadata": {
    "papermill": {
     "duration": 0.008757,
     "end_time": "2023-05-23T06:46:42.193432",
     "exception": false,
     "start_time": "2023-05-23T06:46:42.184675",
     "status": "completed"
    },
    "tags": []
   },
   "outputs": [],
   "source": []
  }
 ],
 "metadata": {
  "kernelspec": {
   "display_name": "Python 3",
   "language": "python",
   "name": "python3"
  },
  "language_info": {
   "codemirror_mode": {
    "name": "ipython",
    "version": 3
   },
   "file_extension": ".py",
   "mimetype": "text/x-python",
   "name": "python",
   "nbconvert_exporter": "python",
   "pygments_lexer": "ipython3",
   "version": "3.10.10"
  },
  "papermill": {
   "default_parameters": {},
   "duration": 14.8517,
   "end_time": "2023-05-23T06:46:43.123551",
   "environment_variables": {},
   "exception": null,
   "input_path": "__notebook__.ipynb",
   "output_path": "__notebook__.ipynb",
   "parameters": {},
   "start_time": "2023-05-23T06:46:28.271851",
   "version": "2.4.0"
  }
 },
 "nbformat": 4,
 "nbformat_minor": 5
}
