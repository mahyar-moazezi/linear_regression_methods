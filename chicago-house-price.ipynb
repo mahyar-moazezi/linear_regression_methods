{
 "cells": [
  {
   "cell_type": "code",
   "execution_count": 1,
   "id": "885cf977",
   "metadata": {
    "_cell_guid": "b1076dfc-b9ad-4769-8c92-a6c4dae69d19",
    "_uuid": "8f2839f25d086af736a60e9eeb907d3b93b6e0e5",
    "execution": {
     "iopub.execute_input": "2023-05-23T04:49:06.916369Z",
     "iopub.status.busy": "2023-05-23T04:49:06.915420Z",
     "iopub.status.idle": "2023-05-23T04:49:06.938999Z",
     "shell.execute_reply": "2023-05-23T04:49:06.938052Z"
    },
    "papermill": {
     "duration": 0.032899,
     "end_time": "2023-05-23T04:49:06.942825",
     "exception": false,
     "start_time": "2023-05-23T04:49:06.909926",
     "status": "completed"
    },
    "tags": []
   },
   "outputs": [
    {
     "name": "stdout",
     "output_type": "stream",
     "text": [
      "/kaggle/input/chicago-house-price/realest.csv\n"
     ]
    }
   ],
   "source": [
    "# This Python 3 environment comes with many helpful analytics libraries installed\n",
    "# It is defined by the kaggle/python Docker image: https://github.com/kaggle/docker-python\n",
    "# For example, here's several helpful packages to load\n",
    "\n",
    "import numpy as np # linear algebra\n",
    "import pandas as pd # data processing, CSV file I/O (e.g. pd.read_csv)\n",
    "\n",
    "# Input data files are available in the read-only \"../input/\" directory\n",
    "# For example, running this (by clicking run or pressing Shift+Enter) will list all files under the input directory\n",
    "\n",
    "import os\n",
    "for dirname, _, filenames in os.walk('/kaggle/input'):\n",
    "    for filename in filenames:\n",
    "        print(os.path.join(dirname, filename))\n",
    "\n",
    "# You can write up to 20GB to the current directory (/kaggle/working/) that gets preserved as output when you create a version using \"Save & Run All\" \n",
    "# You can also write temporary files to /kaggle/temp/, but they won't be saved outside of the current session"
   ]
  },
  {
   "cell_type": "markdown",
   "id": "465cdd9e",
   "metadata": {
    "papermill": {
     "duration": 0.004545,
     "end_time": "2023-05-23T04:49:06.950401",
     "exception": false,
     "start_time": "2023-05-23T04:49:06.945856",
     "status": "completed"
    },
    "tags": []
   },
   "source": [
    "**Linear Regression By Multiple Ways**"
   ]
  },
  {
   "cell_type": "code",
   "execution_count": 2,
   "id": "f9b55dc9",
   "metadata": {
    "execution": {
     "iopub.execute_input": "2023-05-23T04:49:06.957798Z",
     "iopub.status.busy": "2023-05-23T04:49:06.956879Z",
     "iopub.status.idle": "2023-05-23T04:49:06.964115Z",
     "shell.execute_reply": "2023-05-23T04:49:06.962989Z"
    },
    "papermill": {
     "duration": 0.01426,
     "end_time": "2023-05-23T04:49:06.967061",
     "exception": false,
     "start_time": "2023-05-23T04:49:06.952801",
     "status": "completed"
    },
    "tags": []
   },
   "outputs": [],
   "source": [
    "import pandas as pd\n",
    "import numpy as np\n",
    "import matplotlib.pyplot as plt\n",
    "%matplotlib inline"
   ]
  }
 ],
 "metadata": {
  "kernelspec": {
   "display_name": "Python 3",
   "language": "python",
   "name": "python3"
  },
  "language_info": {
   "codemirror_mode": {
    "name": "ipython",
    "version": 3
   },
   "file_extension": ".py",
   "mimetype": "text/x-python",
   "name": "python",
   "nbconvert_exporter": "python",
   "pygments_lexer": "ipython3",
   "version": "3.10.10"
  },
  "papermill": {
   "default_parameters": {},
   "duration": 15.792424,
   "end_time": "2023-05-23T04:49:08.296978",
   "environment_variables": {},
   "exception": null,
   "input_path": "__notebook__.ipynb",
   "output_path": "__notebook__.ipynb",
   "parameters": {},
   "start_time": "2023-05-23T04:48:52.504554",
   "version": "2.4.0"
  }
 },
 "nbformat": 4,
 "nbformat_minor": 5
}
